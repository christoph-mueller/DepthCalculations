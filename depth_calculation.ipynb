{
 "cells": [
  {
   "cell_type": "code",
   "execution_count": 2,
   "metadata": {
    "collapsed": false
   },
   "outputs": [],
   "source": [
    "import numpy as np\n",
    "import depth_calculation as dc"
   ]
  },
  {
   "cell_type": "code",
   "execution_count": 3,
   "metadata": {
    "collapsed": false
   },
   "outputs": [],
   "source": [
    "## Import data\n",
    "rabi_file = 'D:\\\\Git\\\\DepthCalculations\\\\Rabi_old.asc'\n",
    "xy8_file = 'D:\\\\Git\\\\DepthCalculations\\\\XY8-16_old.asc'\n",
    "\n",
    "rabi_x, rabi_y = dc.get_data(rabi_file, data_columns=2)\n",
    "xy8_x, xy8_y1, xy8_y2 = dc.get_data(xy8_file, data_columns=3)"
   ]
  },
  {
   "cell_type": "code",
   "execution_count": 16,
   "metadata": {
    "collapsed": false
   },
   "outputs": [],
   "source": [
    "## give values here\n",
    "# order of XY8-N\n",
    "N = 1\n",
    "\n",
    "# gyromagnetic ratio electron\n",
    "gamma_e = 2*np.pi*2.8025*1e4  # in MHz/T\n",
    "gamma_e += 1e6  # to get Hz/T\n",
    "# gyromagnetic ratio proton\n",
    "gamma_p = 42.58 # in MHz/T\n",
    "gamma_p *= 1e6  # to get Hz/T\n",
    "\n",
    "# spin density\n",
    "rho = 50       # in 1/nm^3\n",
    "rho *= 1e27    # to get the spin density in 1/m^3\n",
    "\n",
    "mu_0 = 1.256e-6\n",
    "h = 6.62607e-34\n"
   ]
  },
  {
   "cell_type": "code",
   "execution_count": 17,
   "metadata": {
    "collapsed": false
   },
   "outputs": [
    {
     "data": {
      "text/plain": [
       "2.821380606e-32"
      ]
     },
     "execution_count": 17,
     "metadata": {},
     "output_type": "execute_result"
    }
   ],
   "source": [
    "h*gamma_p"
   ]
  },
  {
   "cell_type": "code",
   "execution_count": 18,
   "metadata": {
    "collapsed": false
   },
   "outputs": [
    {
     "data": {
      "text/plain": [
       "2.8183389228000004e-26"
      ]
     },
     "execution_count": 18,
     "metadata": {},
     "output_type": "execute_result"
    }
   ],
   "source": [
    "2*2.79*5.0507866*1e-27"
   ]
  },
  {
   "cell_type": "code",
   "execution_count": null,
   "metadata": {
    "collapsed": true
   },
   "outputs": [],
   "source": []
  }
 ],
 "metadata": {
  "anaconda-cloud": {},
  "kernelspec": {
   "display_name": "Python [Root]",
   "language": "python",
   "name": "Python [Root]"
  },
  "language_info": {
   "codemirror_mode": {
    "name": "ipython",
    "version": 3
   },
   "file_extension": ".py",
   "mimetype": "text/x-python",
   "name": "python",
   "nbconvert_exporter": "python",
   "pygments_lexer": "ipython3",
   "version": "3.5.2"
  }
 },
 "nbformat": 4,
 "nbformat_minor": 0
}
